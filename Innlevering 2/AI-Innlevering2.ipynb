{
 "cells": [
  {
   "cell_type": "raw",
   "metadata": {},
   "source": [
    "1: Lag en Iterator Class som kan skrive ut Fibonacci-tallene mellom 0 og 1000"
   ]
  },
  {
   "cell_type": "code",
   "execution_count": 27,
   "metadata": {},
   "outputs": [
    {
     "name": "stdout",
     "output_type": "stream",
     "text": [
      "[0, 1, 1, 2, 3, 5, 8, 13, 21, 34, 55, 89, 144, 233, 377, 610, 987]\n"
     ]
    }
   ],
   "source": [
    "class Fibonacci:\n",
    "    def __init__(self, max):\n",
    "        self.max = max\n",
    "    \n",
    "    def __iter__(self):\n",
    "        self.a = 0\n",
    "        self.b = 1\n",
    "        return self\n",
    "    \n",
    "    def __next__(self):\n",
    "        fib = self.a\n",
    "        if fib > self.max:\n",
    "            raise StopIteration\n",
    "        self.a, self.b = self.b, self.a + self.b\n",
    "        return fib\n",
    "\n",
    "fibNum = []\n",
    "for i in Fibonacci(1000):\n",
    "    fibNum.append(i)\n",
    "print(fibNum)"
   ]
  },
  {
   "cell_type": "raw",
   "metadata": {},
   "source": [
    "[0, 1, 1, 2, 3, 5, 8, 13, 21, 34, 55, 89, 144, 233, 377, 610, 987] #forventet output for oppgave 1"
   ]
  },
  {
   "cell_type": "raw",
   "metadata": {},
   "source": [
    "2: Lag en Generator Function som skriver ut Fibonacci-tallene mellom 0 og 1000"
   ]
  },
  {
   "cell_type": "code",
   "execution_count": 28,
   "metadata": {},
   "outputs": [
    {
     "name": "stdout",
     "output_type": "stream",
     "text": [
      "[0, 1, 1, 2, 3, 5, 8, 13, 21, 34, 55, 89, 144, 233, 377, 610, 987]\n"
     ]
    }
   ],
   "source": [
    "def genFib(max):\n",
    "    a, b = 0, 1\n",
    "    while a < max:\n",
    "        yield a\n",
    "        a, b = b, a + b\n",
    "\n",
    "fibNum = []\n",
    "for i in genFib(1000):\n",
    "    fibNum.append(i)\n",
    "print(fibNum)"
   ]
  },
  {
   "cell_type": "raw",
   "metadata": {},
   "source": [
    "[0, 1, 1, 2, 3, 5, 8, 13, 21, 34, 55, 89, 144, 233, 377, 610, 987] #forventet output for oppgave 2"
   ]
  },
  {
   "cell_type": "raw",
   "metadata": {},
   "source": [
    "3: Lag en Class NewInt som arver fra int. Den skal ha en Instance Method is_fibonacci() som returnerer True om tallet er et Fibonacci-tall, False hvis ikke. Generer en liste med NewInt fra 0 til 1000. Lag så en List Comprehension som kun beholder tallene som er Fibonacci ved hjelp av klassen og instansmetoden du lagde."
   ]
  },
  {
   "cell_type": "code",
   "execution_count": 36,
   "metadata": {},
   "outputs": [
    {
     "name": "stdout",
     "output_type": "stream",
     "text": [
      "[0, 1, 2, 3, 5, 8, 13, 21, 34, 55, 89, 144, 233, 377, 610, 987]\n"
     ]
    }
   ],
   "source": [
    "import math\n",
    "\n",
    "\n",
    "class NewInt(int):\n",
    "\n",
    "    def __new__(cls, n, *args, **kwargs):\n",
    "        return super(NewInt, cls).__new__(cls, n)\n",
    "\n",
    "    def is_fibonacci(self):\n",
    "        n1 = (5 * self * self + 4);\n",
    "        n2 = (5 * self * self - 4)\n",
    "        return int(math.sqrt(n1)) * int(math.sqrt(n1)) == n1 or int(math.sqrt(n2)) * int(math.sqrt(n2)) == n2\n",
    "\n",
    "\n",
    "int_list = [NewInt(i) for i in range(0, 1000)]\n",
    "fib_list = [i for i in int_list if i.is_fibonacci()]\n",
    "\n",
    "print(fib_list)\n"
   ]
  },
  {
   "cell_type": "raw",
   "metadata": {},
   "source": [
    "[0, 1, 2, 3, 5, 8, 13, 21, 34, 55, 89, 144, 233, 377, 610, 987] #forventet output for oppgave 3"
   ]
  },
  {
   "cell_type": "raw",
   "metadata": {},
   "source": [
    "4: Lag en liste int_list med NewInt fra 0 til 100 000. Lag deretter et set() fib_set med Fibonacci-tallene mellom 0 og 100 000 med fremgangsmåte du selv velger. Lag en List Comprehension som sjekker int_list mot fib_set. Sammenlign deretter performance mot klassen og metoden du lagde i oppgave 3 for å se hva som er raskest.  Tips: Sjekk performance med %%timeit i en notebook-celle."
   ]
  },
  {
   "cell_type": "code",
   "execution_count": 76,
   "metadata": {},
   "outputs": [
    {
     "name": "stdout",
     "output_type": "stream",
     "text": [
      "100 loops, best of 5: 1.87 ms per loop\n",
      "[0, 1, 2, 3, 5, 8, 13, 21, 34, 55, 89, 144, 233, 377, 610, 987]\n",
      "10 loops, best of 5: 48.8 ms per loop\n",
      "[0, 1, 2, 3, 5, 8, 13, 21, 34, 55, 89, 144, 233, 377, 610, 987, 1597, 2584, 4181, 6765, 10946, 17711, 28657, 46368, 75025]\n"
     ]
    }
   ],
   "source": [
    "import math\n",
    "\n",
    "\n",
    "class NewInt(int):\n",
    "\n",
    "    def __new__(cls, n, *args, **kwargs):\n",
    "        return super(NewInt, cls).__new__(cls, n)\n",
    "\n",
    "    def is_fibonacci(self):\n",
    "        n1 = (5 * self * self + 4);\n",
    "        n2 = (5 * self * self - 4)\n",
    "        return int(math.sqrt(n1)) * int(math.sqrt(n1)) == n1 or int(math.sqrt(n2)) * int(math.sqrt(n2)) == n2\n",
    "\n",
    "\n",
    "int_list = [NewInt(i) for i in range(0, 1000)]\n",
    "fib_list1 = [i for i in int_list if i.is_fibonacci()]\n",
    "%timeit [i for i in int_list if i.is_fibonacci()]\n",
    "print(fib_list1)\n",
    "\n",
    "\n",
    "int_list = [NewInt(i) for i in range(0, 100000)]\n",
    "fib_set = {0, 1, 2, 3, 5, 8, 13, 21, 34, 55, 89, 144, 233, 377, 610, 987, 1597, 2584, 4181, 6765, 10946, 17711, 28657,\n",
    "           46368, 75025}\n",
    "\n",
    "fib_list2 = [ i for i in int_list if i in fib_set]\n",
    "%timeit [x for x in int_list if x in fib_set]\n",
    "\n",
    "\n",
    "print(fib_list2)"
   ]
  },
  {
   "cell_type": "raw",
   "metadata": {},
   "source": [
    "En sammenligning av listen vil være betraktelig mye tregere enn å kalkulere hvert tall og se om det er en del av fibonacci sekvensen."
   ]
  }
 ],
 "metadata": {
  "kernelspec": {
   "display_name": "Python 3",
   "language": "python",
   "name": "python3"
  },
  "language_info": {
   "codemirror_mode": {
    "name": "ipython",
    "version": 3
   },
   "file_extension": ".py",
   "mimetype": "text/x-python",
   "name": "python",
   "nbconvert_exporter": "python",
   "pygments_lexer": "ipython3",
   "version": "3.7.8"
  }
 },
 "nbformat": 4,
 "nbformat_minor": 4
}
